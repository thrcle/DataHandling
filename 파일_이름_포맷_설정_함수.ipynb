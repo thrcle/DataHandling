{
  "nbformat": 4,
  "nbformat_minor": 0,
  "metadata": {
    "colab": {
      "name": "파일 이름 포맷 설정 함수.ipynb",
      "provenance": [],
      "collapsed_sections": [],
      "authorship_tag": "ABX9TyMXSNOMh2oJBHEo8WVZ3aTB",
      "include_colab_link": true
    },
    "kernelspec": {
      "name": "python3",
      "display_name": "Python 3"
    },
    "language_info": {
      "name": "python"
    }
  },
  "cells": [
    {
      "cell_type": "markdown",
      "metadata": {
        "id": "view-in-github",
        "colab_type": "text"
      },
      "source": [
        "<a href=\"https://colab.research.google.com/github/thrcle/DataHandling/blob/main/%ED%8C%8C%EC%9D%BC_%EC%9D%B4%EB%A6%84_%ED%8F%AC%EB%A7%B7_%EC%84%A4%EC%A0%95_%ED%95%A8%EC%88%98.ipynb\" target=\"_parent\"><img src=\"https://colab.research.google.com/assets/colab-badge.svg\" alt=\"Open In Colab\"/></a>"
      ]
    },
    {
      "cell_type": "code",
      "source": [
        "# 2-1. "
      ],
      "metadata": {
        "id": "vsUPjVSvd4e7"
      },
      "execution_count": null,
      "outputs": []
    },
    {
      "cell_type": "code",
      "source": [
        "import numpy as np\n",
        "import pandas as pd"
      ],
      "metadata": {
        "id": "-c6zh-ggnsdE"
      },
      "execution_count": null,
      "outputs": []
    },
    {
      "cell_type": "code",
      "source": [
        "from google.colab import drive\n",
        "drive.mount('/content/drive')"
      ],
      "metadata": {
        "colab": {
          "base_uri": "https://localhost:8080/"
        },
        "id": "6mZv--_woBlm",
        "outputId": "2e1926e2-f943-47b0-dec0-f646a5ccde2d"
      },
      "execution_count": null,
      "outputs": [
        {
          "output_type": "stream",
          "name": "stdout",
          "text": [
            "Mounted at /content/drive\n"
          ]
        }
      ]
    },
    {
      "cell_type": "code",
      "source": [
        "# 6. 원하는 데이터 추가하기\n",
        "# 6-5 Insert data\n",
        "# 1) by declaring a new list as a column\n",
        "# 2) using .loc[]\n",
        "# 3) using the .assign()"
      ],
      "metadata": {
        "id": "LssEjIdeVAFx"
      },
      "execution_count": null,
      "outputs": []
    },
    {
      "cell_type": "code",
      "source": [
        "!ls -al '/content/drive/MyDrive/fc'"
      ],
      "metadata": {
        "colab": {
          "base_uri": "https://localhost:8080/"
        },
        "id": "TCgaduPnoeYN",
        "outputId": "f890b0ad-302e-4f2e-c200-a87c71516d94"
      },
      "execution_count": null,
      "outputs": [
        {
          "output_type": "stream",
          "name": "stdout",
          "text": [
            "total 1006\n",
            "lrw------- 1 root root      0 Mar 21 14:34  바이블_강의자료 -> /content/drive/.shortcut-targets-by-id/17lGRMiGzsuJ0xqhIkO9UEOhfOr0QQPsK/바이블_강의자료\n",
            "-rw------- 1 root root   8901 Mar 28 13:05  2-1.ipynb\n",
            "-rw------- 1 root root 337847 Apr 30  2021  data_202001.csv\n",
            "-rw------- 1 root root 314682 Apr 30  2021  data_202002.csv\n",
            "-rw------- 1 root root 335953 Apr 30  2021  data_202003.csv\n",
            "-rw------- 1 root root  26633 Mar 25 02:08  TensorflowRegression.ipynb\n",
            "drwx------ 2 root root   4096 Mar 21 11:34 '파트별 코드 및 기타 자료(바이블).zip (Unzipped Files)'\n"
          ]
        }
      ]
    },
    {
      "cell_type": "code",
      "source": [
        "pd.read_csv(\"/content/drive/MyDrive/패캠/data_202001.csv\")"
      ],
      "metadata": {
        "colab": {
          "base_uri": "https://localhost:8080/",
          "height": 423
        },
        "id": "Ci14kG5qoKBu",
        "outputId": "9dad2048-4444-4474-a881-6ecae5badf63"
      },
      "execution_count": null,
      "outputs": [
        {
          "output_type": "execute_result",
          "data": {
            "text/plain": [
              "           집계일자  집계시  출발영업소코드  도착영업소코드   통행시간  요일\n",
              "0      20200101    4      101      105    637   2\n",
              "1      20200101    4      101      105    773   2\n",
              "2      20200101    4      101      105    762   2\n",
              "3      20200101    4      101      105    746   2\n",
              "4      20200101    4      101      105    875   2\n",
              "...         ...  ...      ...      ...    ...  ..\n",
              "12744  20200131   10      101      125   7776   4\n",
              "12745  20200131    2      101      140  14189   4\n",
              "12746  20200131    4      101      110   3780   4\n",
              "12747  20200131   15      101      120   8269   4\n",
              "12748  20200131   18      101      130   9769   4\n",
              "\n",
              "[12749 rows x 6 columns]"
            ],
            "text/html": [
              "\n",
              "  <div id=\"df-7c8368bb-1113-4d25-9925-d3f273e6ec28\">\n",
              "    <div class=\"colab-df-container\">\n",
              "      <div>\n",
              "<style scoped>\n",
              "    .dataframe tbody tr th:only-of-type {\n",
              "        vertical-align: middle;\n",
              "    }\n",
              "\n",
              "    .dataframe tbody tr th {\n",
              "        vertical-align: top;\n",
              "    }\n",
              "\n",
              "    .dataframe thead th {\n",
              "        text-align: right;\n",
              "    }\n",
              "</style>\n",
              "<table border=\"1\" class=\"dataframe\">\n",
              "  <thead>\n",
              "    <tr style=\"text-align: right;\">\n",
              "      <th></th>\n",
              "      <th>집계일자</th>\n",
              "      <th>집계시</th>\n",
              "      <th>출발영업소코드</th>\n",
              "      <th>도착영업소코드</th>\n",
              "      <th>통행시간</th>\n",
              "      <th>요일</th>\n",
              "    </tr>\n",
              "  </thead>\n",
              "  <tbody>\n",
              "    <tr>\n",
              "      <th>0</th>\n",
              "      <td>20200101</td>\n",
              "      <td>4</td>\n",
              "      <td>101</td>\n",
              "      <td>105</td>\n",
              "      <td>637</td>\n",
              "      <td>2</td>\n",
              "    </tr>\n",
              "    <tr>\n",
              "      <th>1</th>\n",
              "      <td>20200101</td>\n",
              "      <td>4</td>\n",
              "      <td>101</td>\n",
              "      <td>105</td>\n",
              "      <td>773</td>\n",
              "      <td>2</td>\n",
              "    </tr>\n",
              "    <tr>\n",
              "      <th>2</th>\n",
              "      <td>20200101</td>\n",
              "      <td>4</td>\n",
              "      <td>101</td>\n",
              "      <td>105</td>\n",
              "      <td>762</td>\n",
              "      <td>2</td>\n",
              "    </tr>\n",
              "    <tr>\n",
              "      <th>3</th>\n",
              "      <td>20200101</td>\n",
              "      <td>4</td>\n",
              "      <td>101</td>\n",
              "      <td>105</td>\n",
              "      <td>746</td>\n",
              "      <td>2</td>\n",
              "    </tr>\n",
              "    <tr>\n",
              "      <th>4</th>\n",
              "      <td>20200101</td>\n",
              "      <td>4</td>\n",
              "      <td>101</td>\n",
              "      <td>105</td>\n",
              "      <td>875</td>\n",
              "      <td>2</td>\n",
              "    </tr>\n",
              "    <tr>\n",
              "      <th>...</th>\n",
              "      <td>...</td>\n",
              "      <td>...</td>\n",
              "      <td>...</td>\n",
              "      <td>...</td>\n",
              "      <td>...</td>\n",
              "      <td>...</td>\n",
              "    </tr>\n",
              "    <tr>\n",
              "      <th>12744</th>\n",
              "      <td>20200131</td>\n",
              "      <td>10</td>\n",
              "      <td>101</td>\n",
              "      <td>125</td>\n",
              "      <td>7776</td>\n",
              "      <td>4</td>\n",
              "    </tr>\n",
              "    <tr>\n",
              "      <th>12745</th>\n",
              "      <td>20200131</td>\n",
              "      <td>2</td>\n",
              "      <td>101</td>\n",
              "      <td>140</td>\n",
              "      <td>14189</td>\n",
              "      <td>4</td>\n",
              "    </tr>\n",
              "    <tr>\n",
              "      <th>12746</th>\n",
              "      <td>20200131</td>\n",
              "      <td>4</td>\n",
              "      <td>101</td>\n",
              "      <td>110</td>\n",
              "      <td>3780</td>\n",
              "      <td>4</td>\n",
              "    </tr>\n",
              "    <tr>\n",
              "      <th>12747</th>\n",
              "      <td>20200131</td>\n",
              "      <td>15</td>\n",
              "      <td>101</td>\n",
              "      <td>120</td>\n",
              "      <td>8269</td>\n",
              "      <td>4</td>\n",
              "    </tr>\n",
              "    <tr>\n",
              "      <th>12748</th>\n",
              "      <td>20200131</td>\n",
              "      <td>18</td>\n",
              "      <td>101</td>\n",
              "      <td>130</td>\n",
              "      <td>9769</td>\n",
              "      <td>4</td>\n",
              "    </tr>\n",
              "  </tbody>\n",
              "</table>\n",
              "<p>12749 rows × 6 columns</p>\n",
              "</div>\n",
              "      <button class=\"colab-df-convert\" onclick=\"convertToInteractive('df-7c8368bb-1113-4d25-9925-d3f273e6ec28')\"\n",
              "              title=\"Convert this dataframe to an interactive table.\"\n",
              "              style=\"display:none;\">\n",
              "        \n",
              "  <svg xmlns=\"http://www.w3.org/2000/svg\" height=\"24px\"viewBox=\"0 0 24 24\"\n",
              "       width=\"24px\">\n",
              "    <path d=\"M0 0h24v24H0V0z\" fill=\"none\"/>\n",
              "    <path d=\"M18.56 5.44l.94 2.06.94-2.06 2.06-.94-2.06-.94-.94-2.06-.94 2.06-2.06.94zm-11 1L8.5 8.5l.94-2.06 2.06-.94-2.06-.94L8.5 2.5l-.94 2.06-2.06.94zm10 10l.94 2.06.94-2.06 2.06-.94-2.06-.94-.94-2.06-.94 2.06-2.06.94z\"/><path d=\"M17.41 7.96l-1.37-1.37c-.4-.4-.92-.59-1.43-.59-.52 0-1.04.2-1.43.59L10.3 9.45l-7.72 7.72c-.78.78-.78 2.05 0 2.83L4 21.41c.39.39.9.59 1.41.59.51 0 1.02-.2 1.41-.59l7.78-7.78 2.81-2.81c.8-.78.8-2.07 0-2.86zM5.41 20L4 18.59l7.72-7.72 1.47 1.35L5.41 20z\"/>\n",
              "  </svg>\n",
              "      </button>\n",
              "      \n",
              "  <style>\n",
              "    .colab-df-container {\n",
              "      display:flex;\n",
              "      flex-wrap:wrap;\n",
              "      gap: 12px;\n",
              "    }\n",
              "\n",
              "    .colab-df-convert {\n",
              "      background-color: #E8F0FE;\n",
              "      border: none;\n",
              "      border-radius: 50%;\n",
              "      cursor: pointer;\n",
              "      display: none;\n",
              "      fill: #1967D2;\n",
              "      height: 32px;\n",
              "      padding: 0 0 0 0;\n",
              "      width: 32px;\n",
              "    }\n",
              "\n",
              "    .colab-df-convert:hover {\n",
              "      background-color: #E2EBFA;\n",
              "      box-shadow: 0px 1px 2px rgba(60, 64, 67, 0.3), 0px 1px 3px 1px rgba(60, 64, 67, 0.15);\n",
              "      fill: #174EA6;\n",
              "    }\n",
              "\n",
              "    [theme=dark] .colab-df-convert {\n",
              "      background-color: #3B4455;\n",
              "      fill: #D2E3FC;\n",
              "    }\n",
              "\n",
              "    [theme=dark] .colab-df-convert:hover {\n",
              "      background-color: #434B5C;\n",
              "      box-shadow: 0px 1px 3px 1px rgba(0, 0, 0, 0.15);\n",
              "      filter: drop-shadow(0px 1px 2px rgba(0, 0, 0, 0.3));\n",
              "      fill: #FFFFFF;\n",
              "    }\n",
              "  </style>\n",
              "\n",
              "      <script>\n",
              "        const buttonEl =\n",
              "          document.querySelector('#df-7c8368bb-1113-4d25-9925-d3f273e6ec28 button.colab-df-convert');\n",
              "        buttonEl.style.display =\n",
              "          google.colab.kernel.accessAllowed ? 'block' : 'none';\n",
              "\n",
              "        async function convertToInteractive(key) {\n",
              "          const element = document.querySelector('#df-7c8368bb-1113-4d25-9925-d3f273e6ec28');\n",
              "          const dataTable =\n",
              "            await google.colab.kernel.invokeFunction('convertToInteractive',\n",
              "                                                     [key], {});\n",
              "          if (!dataTable) return;\n",
              "\n",
              "          const docLinkHtml = 'Like what you see? Visit the ' +\n",
              "            '<a target=\"_blank\" href=https://colab.research.google.com/notebooks/data_table.ipynb>data table notebook</a>'\n",
              "            + ' to learn more about interactive tables.';\n",
              "          element.innerHTML = '';\n",
              "          dataTable['output_type'] = 'display_data';\n",
              "          await google.colab.output.renderOutput(dataTable, element);\n",
              "          const docLink = document.createElement('div');\n",
              "          docLink.innerHTML = docLinkHtml;\n",
              "          element.appendChild(docLink);\n",
              "        }\n",
              "      </script>\n",
              "    </div>\n",
              "  </div>\n",
              "  "
            ]
          },
          "metadata": {},
          "execution_count": 6
        }
      ]
    },
    {
      "cell_type": "code",
      "source": [
        "INPUT_PREFIX = './data/data_2020'\n",
        "OUTPUT_PREFIX = './data/data_2020'\n",
        "OUTPUT_EXTENSION='.csv'\n",
        "\n",
        "output_datafrmes=[]\n",
        "\n",
        "def generateData(month):   # 파일의 이름을 바꾸는 함수+data cleansing\n",
        "  month_string=str(month)\n",
        "  if len(month_string)==1:\n",
        "    month_string='0'+month_string(month)\n",
        "\n",
        "  input_file=INPUT_PREFIX+month_string\n",
        "  output_file= OUTPUT_PREFIX+month_string+OUTPUT_EXTENSION\n",
        "  print('INPUT : ',input_file, \"OUTPUT : \", output_file)\n",
        "  data=pd.read_csv(input_file, sep=',', encoding='euc')\n",
        "\n",
        "  output_datafrmes.append(input_file)\n",
        "\n",
        "\n",
        "for month in range(2,4):\n",
        "  generateData(month)\n",
        "output_data=pd.concat(output_datafrmes, ignore_index=True, sort=False)\n",
        "final=OUTPUT_PREFIX+OUTPUT_EXTENSION\n",
        "output_data.to_csv(final, index=None, header=True)"
      ],
      "metadata": {
        "id": "VmTS-EJnGT4D"
      },
      "execution_count": null,
      "outputs": []
    },
    {
      "cell_type": "code",
      "source": [
        ""
      ],
      "metadata": {
        "id": "iDpFY04HU77s"
      },
      "execution_count": null,
      "outputs": []
    }
  ]
}