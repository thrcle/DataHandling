{
  "nbformat": 4,
  "nbformat_minor": 0,
  "metadata": {
    "colab": {
      "name": "여러 데이터 파일 하나의 데이터셋으로 합치기.ipynb",
      "provenance": [],
      "collapsed_sections": [],
      "mount_file_id": "1RWkkhp08Cd1g2bvU2HhHx5dNiN8nUTzF",
      "authorship_tag": "ABX9TyMRd5Ckgbtl/OVXuu606v84",
      "include_colab_link": true
    },
    "kernelspec": {
      "name": "python3",
      "display_name": "Python 3"
    },
    "language_info": {
      "name": "python"
    }
  },
  "cells": [
    {
      "cell_type": "markdown",
      "metadata": {
        "id": "view-in-github",
        "colab_type": "text"
      },
      "source": [
        "<a href=\"https://colab.research.google.com/github/thrcle/DataHandling/blob/main/%EC%97%AC%EB%9F%AC_%EB%8D%B0%EC%9D%B4%ED%84%B0_%ED%8C%8C%EC%9D%BC_%ED%95%98%EB%82%98%EC%9D%98_%EB%8D%B0%EC%9D%B4%ED%84%B0%EC%85%8B%EC%9C%BC%EB%A1%9C_%ED%95%A9%EC%B9%98%EA%B8%B0.ipynb\" target=\"_parent\"><img src=\"https://colab.research.google.com/assets/colab-badge.svg\" alt=\"Open In Colab\"/></a>"
      ]
    },
    {
      "cell_type": "code",
      "source": [
        "# 2-1-10"
      ],
      "metadata": {
        "id": "kE_-leBmePWd"
      },
      "execution_count": null,
      "outputs": []
    },
    {
      "cell_type": "markdown",
      "source": [
        "10. 데이터를 가공하여 분석용 데이터셋 만들기"
      ],
      "metadata": {
        "id": "VozWu7Bdlisq"
      }
    },
    {
      "cell_type": "code",
      "execution_count": null,
      "metadata": {
        "id": "KW47bHACldKM"
      },
      "outputs": [],
      "source": [
        "import pandas as pd"
      ]
    },
    {
      "cell_type": "code",
      "source": [
        "input_prefix=\"/content/drive/MyDrive/fc/data/TCS_영업소간통행시간_1시간_1개월_2020\"\n",
        "output_prefix=\"/content/drive/MyDrive/fc/data/data_2020\"\n",
        "output_extension='.csv'\n",
        "\n",
        "#각 month별 자료를 하나로 통합\n",
        "sum_output_data=[]\n",
        "\n",
        "def generateData(month):\n",
        "  if month<10:\n",
        "    number_postfix=\"0\"+str(month)\n",
        "\n",
        "  input_file=input_prefix+number_postfix    # input 파일의 이름 형태\n",
        "  output_file=output_prefix+number_postfix+output_extension  # output 파일의 이름 형태\n",
        "  \n",
        "  # 데이터 클렌징\n",
        "  data = pd.read_csv(input_file, sep=\",\", encoding=\"euc-kr\")\n",
        "  data_clean = data.drop(['Unnamed: 6'], axis='columns')\n",
        "  data_clean = data_clean[data_clean.통행시간 > 0]\n",
        "  df_data = pd.DataFrame(data_clean, columns=['집계일자','집계시','출발영업소코드','도착영업소코드', '통행시간'])\n",
        "  start_from_101 = df_data[df_data.출발영업소코드 == 101]\n",
        "  start_from_101_to_140 = start_from_101[start_from_101['도착영업소코드'].isin([105,110,115,120,125,130,135,140])]\n",
        "  start_from_101_to_140 = start_from_101_to_140.assign(요일=pd.to_datetime(start_from_101_to_140['집계일자'], format='%Y%m%d').dt.dayofweek)\n",
        "  start_from_101_to_140.sort_values(by=['집계일자', '집계시'])\n",
        "\n",
        "  # output 이름 형식으로 파일 저장\n",
        "  start_from_101_to_140.to_csv(output_file, index = None, header=True)\n",
        "\n",
        "  sum_output_data.append(start_from_101_to_140)    #sum_output_data = [data_202002, data_202003, data_202004] -> concat\n",
        "  "
      ],
      "metadata": {
        "id": "pr4dc8pFlvhp"
      },
      "execution_count": null,
      "outputs": []
    },
    {
      "cell_type": "code",
      "source": [
        "for month in range(2,5):\n",
        "  generateData(month)\n",
        "final_output_data=pd.concat(sum_output_data, ignore_index=True, sort=False)\n",
        "final_output_file=output_prefix+output_extension\n",
        "final_output_data.to_csv(final_output_file)\n",
        "\n"
      ],
      "metadata": {
        "id": "jHjZpdj9nf6S"
      },
      "execution_count": null,
      "outputs": []
    },
    {
      "cell_type": "code",
      "source": [
        "v1=pd.read_csv(\"/content/drive/MyDrive/패캠/data/data_2020v2.csv\")\n",
        "len(v1)"
      ],
      "metadata": {
        "colab": {
          "base_uri": "https://localhost:8080/"
        },
        "id": "PfQa7Ma1x8Nc",
        "outputId": "86659c3c-99a2-4d10-a626-4b465747c8a8"
      },
      "execution_count": null,
      "outputs": [
        {
          "output_type": "execute_result",
          "data": {
            "text/plain": [
              "18"
            ]
          },
          "metadata": {},
          "execution_count": 33
        }
      ]
    },
    {
      "cell_type": "markdown",
      "source": [
        ""
      ],
      "metadata": {
        "id": "v8bxPzvp3JIP"
      }
    },
    {
      "cell_type": "code",
      "source": [
        "v2=pd.read_csv(\"/content/drive/MyDrive/패캠/data/data_2020.csv\")  #37159\n",
        "len(v2)"
      ],
      "metadata": {
        "colab": {
          "base_uri": "https://localhost:8080/"
        },
        "id": "xjtRojcHzPaa",
        "outputId": "f0317fd7-71d1-4282-cfcb-8b290d6b09fe"
      },
      "execution_count": null,
      "outputs": [
        {
          "output_type": "execute_result",
          "data": {
            "text/plain": [
              "74318"
            ]
          },
          "metadata": {},
          "execution_count": 42
        }
      ]
    },
    {
      "cell_type": "code",
      "source": [
        ""
      ],
      "metadata": {
        "colab": {
          "base_uri": "https://localhost:8080/"
        },
        "id": "qhDXOGZ4307h",
        "outputId": "3f2f1286-1b3d-4cbe-f4a0-32764de6d10c"
      },
      "execution_count": null,
      "outputs": [
        {
          "output_type": "execute_result",
          "data": {
            "text/plain": [
              "74318"
            ]
          },
          "metadata": {},
          "execution_count": 43
        }
      ]
    }
  ]
}